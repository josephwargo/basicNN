{
 "cells": [
  {
   "cell_type": "code",
   "execution_count": 1,
   "metadata": {},
   "outputs": [],
   "source": [
    "import numpy as np\n",
    "import basicNNCode\n",
    "from torchvision.datasets import MNIST\n",
    "import torchvision.transforms as transforms\n",
    "import torch as t\n",
    "from torch.utils.data import DataLoader"
   ]
  },
  {
   "cell_type": "markdown",
   "metadata": {},
   "source": [
    "### Image Classification"
   ]
  },
  {
   "cell_type": "markdown",
   "metadata": {},
   "source": [
    "Testing by classifying the MNIST dataset"
   ]
  },
  {
   "cell_type": "code",
   "execution_count": 2,
   "metadata": {},
   "outputs": [],
   "source": [
    "# downloading dataset\n",
    "dataset = MNIST(root = 'data/', download = True, transform=transforms.ToTensor())\n",
    "dataLoader = DataLoader(dataset)\n",
    "# making into numpy arrays\n",
    "images = []\n",
    "labels = []\n",
    "i = 0\n",
    "for image, label in dataLoader:\n",
    "    images.append(np.array(t.flatten(image)))\n",
    "    labels.append(int(label))\n",
    "    i+=1\n",
    "    if i>=10000:\n",
    "        break\n",
    "images = np.array(images)\n",
    "labels = np.array(labels)\n",
    "# onehot encoding for output\n",
    "encodedLabels = np.zeros((labels.size, labels.max()+1), dtype=int)\n",
    "encodedLabels[np.arange(labels.size),labels] = 1"
   ]
  },
  {
   "cell_type": "code",
   "execution_count": 3,
   "metadata": {},
   "outputs": [],
   "source": [
    "# separating into train and test\n",
    "propTrain = .75\n",
    "numTrain = round(propTrain * len(images))\n",
    "numTest = round((1-propTrain) * len(images))\n",
    "\n",
    "trainImages = images[:numTrain]\n",
    "trainLabels = labels[:numTrain]\n",
    "trainEncodedLabels = encodedLabels[:numTrain]\n",
    "\n",
    "testImages = images[numTrain:]\n",
    "testLabels = labels[numTrain:]\n",
    "testEncodedLabels = encodedLabels[numTrain:]"
   ]
  },
  {
   "cell_type": "code",
   "execution_count": 9,
   "metadata": {},
   "outputs": [],
   "source": [
    "testNN = basicNNCode.neuralNet(784, 10, 'sigmoid', [319, 100, 297, 19, 400], ['relu', 'sigmoid', 'sigmoid', 'tanH', 'relu'],\n",
    "                               lossFunction='MSE', learningRate=.001, epochs=2,\n",
    "                               batchSize=4, adam=True, debug=False)\n",
    "testNN.trainModel(trainImages, trainEncodedLabels)"
   ]
  },
  {
   "cell_type": "code",
   "execution_count": 10,
   "metadata": {},
   "outputs": [
    {
     "name": "stdout",
     "output_type": "stream",
     "text": [
      "0.8732\n"
     ]
    }
   ],
   "source": [
    "countTrue=0\n",
    "for count, value in enumerate(testImages):\n",
    "    pred = np.argmax(testNN.query(value))\n",
    "    actual = testLabels[count]\n",
    "    if pred==actual:\n",
    "        countTrue+=1\n",
    "print(countTrue/len(testImages))"
   ]
  },
  {
   "cell_type": "code",
   "execution_count": null,
   "metadata": {},
   "outputs": [],
   "source": []
  }
 ],
 "metadata": {
  "kernelspec": {
   "display_name": "workspace",
   "language": "python",
   "name": "python3"
  },
  "language_info": {
   "codemirror_mode": {
    "name": "ipython",
    "version": 3
   },
   "file_extension": ".py",
   "mimetype": "text/x-python",
   "name": "python",
   "nbconvert_exporter": "python",
   "pygments_lexer": "ipython3",
   "version": "3.12.4"
  }
 },
 "nbformat": 4,
 "nbformat_minor": 2
}
