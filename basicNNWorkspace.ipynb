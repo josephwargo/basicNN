{
 "cells": [
  {
   "cell_type": "code",
   "execution_count": 5,
   "metadata": {},
   "outputs": [],
   "source": [
    "import numpy as np\n",
    "import basicNNCode\n",
    "from torchvision.datasets import MNIST\n",
    "import torchvision.transforms as transforms\n",
    "import torch as t\n",
    "from torch.utils.data import DataLoader"
   ]
  },
  {
   "cell_type": "markdown",
   "metadata": {},
   "source": [
    "### Image Classification"
   ]
  },
  {
   "cell_type": "code",
   "execution_count": 25,
   "metadata": {},
   "outputs": [],
   "source": [
    "# downloading dataset\n",
    "dataset = MNIST(root = 'data/', download = True, transform=transforms.ToTensor())\n",
    "dataLoader = DataLoader(dataset)\n",
    "# making into numpy arrays\n",
    "images = []\n",
    "labels = []\n",
    "i = 0\n",
    "for image, label in dataLoader:\n",
    "    images.append(np.array(t.flatten(image)))\n",
    "    labels.append(int(label))\n",
    "    i+=1\n",
    "    # if i>=1000:\n",
    "    #     break\n",
    "images = np.array(images)\n",
    "labels = np.array(labels)\n",
    "# onehot encoding for output\n",
    "encodedLabels = np.zeros((labels.size, labels.max()+1), dtype=int)\n",
    "encodedLabels[np.arange(labels.size),labels] = 1"
   ]
  },
  {
   "cell_type": "code",
   "execution_count": 26,
   "metadata": {},
   "outputs": [],
   "source": [
    "testNN = basicNNCode.neuralNet(784, 10, 'sigmoid', [500, 500, 500], ['relu', 'relu', 'relu'], learningRate=.05, debug=False)\n",
    "testNN.trainModel(images, encodedLabels)"
   ]
  },
  {
   "cell_type": "code",
   "execution_count": null,
   "metadata": {},
   "outputs": [
    {
     "name": "stdout",
     "output_type": "stream",
     "text": [
      "0.9532333333333334\n"
     ]
    }
   ],
   "source": [
    "numSamples=60000\n",
    "countTrue=0\n",
    "for i in range(numSamples):\n",
    "    pred = str(np.argmax(testNN.query(images[i])))\n",
    "    actual = str(labels[i])\n",
    "    if pred==actual:\n",
    "        countTrue+=1\n",
    "print(countTrue/numSamples)"
   ]
  }
 ],
 "metadata": {
  "kernelspec": {
   "display_name": "workspace",
   "language": "python",
   "name": "python3"
  },
  "language_info": {
   "codemirror_mode": {
    "name": "ipython",
    "version": 3
   },
   "file_extension": ".py",
   "mimetype": "text/x-python",
   "name": "python",
   "nbconvert_exporter": "python",
   "pygments_lexer": "ipython3",
   "version": "3.12.4"
  }
 },
 "nbformat": 4,
 "nbformat_minor": 2
}
